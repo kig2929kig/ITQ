{
  "nbformat": 4,
  "nbformat_minor": 0,
  "metadata": {
    "colab": {
      "provenance": [],
      "authorship_tag": "ABX9TyNe4qGW3X28k+C32lINX6zQ",
      "include_colab_link": true
    },
    "kernelspec": {
      "name": "python3",
      "display_name": "Python 3"
    },
    "language_info": {
      "name": "python"
    }
  },
  "cells": [
    {
      "cell_type": "markdown",
      "metadata": {
        "id": "view-in-github",
        "colab_type": "text"
      },
      "source": [
        "<a href=\"https://colab.research.google.com/github/kig2929kig/ITQ/blob/main/%EA%B3%BC%EC%A0%9C10.ipynb\" target=\"_parent\"><img src=\"https://colab.research.google.com/assets/colab-badge.svg\" alt=\"Open In Colab\"/></a>"
      ]
    },
    {
      "cell_type": "code",
      "execution_count": 3,
      "metadata": {
        "colab": {
          "base_uri": "https://localhost:8080/"
        },
        "id": "s3NkpjHNP23P",
        "outputId": "c635d514-bfba-489f-ae22-3307b7da8fd0"
      },
      "outputs": [
        {
          "output_type": "stream",
          "name": "stdout",
          "text": [
            "주사위 3개가 모두  5 이다.\n",
            "같은 숫자가 나오기 까지  53 번 던졌다.\n"
          ]
        }
      ],
      "source": [
        "import random\n",
        "count = 0\n",
        "while True :\n",
        "  dice1 = random.randint(1,6)\n",
        "  dice2 = random.randint(1,6)\n",
        "  dice3 = random.randint(1,6)\n",
        "  count = count + 1\n",
        "  if dice1 == dice2 == dice3 :\n",
        "    print(\"주사위 3개가 모두 \", dice1, \"이다.\")\n",
        "    print(\"같은 숫자가 나오기 까지 \", count, \"번 던졌다.\")\n",
        "    break"
      ]
    },
    {
      "cell_type": "code",
      "source": [
        "import random\n",
        "\n",
        "game_count = 1\n",
        "computer_num = 0\n",
        "player = 0\n",
        "while game_count <= 10 :\n",
        "  computer_num = random.randint(1,5)\n",
        "  print(\"제\", game_count, \"회 : \", end=\" \")\n",
        "  player = int(input(\"컴퓨터가 생각한 숫자는 ? \" ))\n",
        "  game_count = game_count + 1\n",
        "\n",
        "\n",
        "  "
      ],
      "metadata": {
        "colab": {
          "base_uri": "https://localhost:8080/",
          "height": 510
        },
        "id": "u7hJYWsBSfdo",
        "outputId": "ee47b07c-d9f2-42d8-8d56-25e4868e8cd5"
      },
      "execution_count": 7,
      "outputs": [
        {
          "output_type": "stream",
          "name": "stdout",
          "text": [
            "제 1 회 :  컴퓨터가 생각한 숫자는 ? 2\n",
            "제 2 회 :  컴퓨터가 생각한 숫자는 ? 3\n",
            "제 3 회 :  컴퓨터가 생각한 숫자는 ? 3\n",
            "제 4 회 :  컴퓨터가 생각한 숫자는 ? 4\n",
            "제 5 회 :  "
          ]
        },
        {
          "output_type": "error",
          "ename": "KeyboardInterrupt",
          "evalue": "ignored",
          "traceback": [
            "\u001b[0;31m---------------------------------------------------------------------------\u001b[0m",
            "\u001b[0;31mKeyboardInterrupt\u001b[0m                         Traceback (most recent call last)",
            "\u001b[0;32m<ipython-input-7-e3e4ed236f0a>\u001b[0m in \u001b[0;36m<cell line: 6>\u001b[0;34m()\u001b[0m\n\u001b[1;32m      7\u001b[0m   \u001b[0mcomputer_num\u001b[0m \u001b[0;34m=\u001b[0m \u001b[0mrandom\u001b[0m\u001b[0;34m.\u001b[0m\u001b[0mrandint\u001b[0m\u001b[0;34m(\u001b[0m\u001b[0;36m1\u001b[0m\u001b[0;34m,\u001b[0m\u001b[0;36m5\u001b[0m\u001b[0;34m)\u001b[0m\u001b[0;34m\u001b[0m\u001b[0;34m\u001b[0m\u001b[0m\n\u001b[1;32m      8\u001b[0m   \u001b[0mprint\u001b[0m\u001b[0;34m(\u001b[0m\u001b[0;34m\"제\"\u001b[0m\u001b[0;34m,\u001b[0m \u001b[0mgame_count\u001b[0m\u001b[0;34m,\u001b[0m \u001b[0;34m\"회 : \"\u001b[0m\u001b[0;34m,\u001b[0m \u001b[0mend\u001b[0m\u001b[0;34m=\u001b[0m\u001b[0;34m\" \"\u001b[0m\u001b[0;34m)\u001b[0m\u001b[0;34m\u001b[0m\u001b[0;34m\u001b[0m\u001b[0m\n\u001b[0;32m----> 9\u001b[0;31m   \u001b[0mplayer\u001b[0m \u001b[0;34m=\u001b[0m \u001b[0mint\u001b[0m\u001b[0;34m(\u001b[0m\u001b[0minput\u001b[0m\u001b[0;34m(\u001b[0m\u001b[0;34m\"컴퓨터가 생각한 숫자는 ? \"\u001b[0m \u001b[0;34m)\u001b[0m\u001b[0;34m)\u001b[0m\u001b[0;34m\u001b[0m\u001b[0;34m\u001b[0m\u001b[0m\n\u001b[0m\u001b[1;32m     10\u001b[0m   \u001b[0mgame_count\u001b[0m \u001b[0;34m=\u001b[0m \u001b[0mgame_count\u001b[0m \u001b[0;34m+\u001b[0m \u001b[0;36m1\u001b[0m\u001b[0;34m\u001b[0m\u001b[0;34m\u001b[0m\u001b[0m\n\u001b[1;32m     11\u001b[0m \u001b[0;34m\u001b[0m\u001b[0m\n",
            "\u001b[0;32m/usr/local/lib/python3.9/dist-packages/ipykernel/kernelbase.py\u001b[0m in \u001b[0;36mraw_input\u001b[0;34m(self, prompt)\u001b[0m\n\u001b[1;32m    849\u001b[0m                 \u001b[0;34m\"raw_input was called, but this frontend does not support input requests.\"\u001b[0m\u001b[0;34m\u001b[0m\u001b[0;34m\u001b[0m\u001b[0m\n\u001b[1;32m    850\u001b[0m             )\n\u001b[0;32m--> 851\u001b[0;31m         return self._input_request(str(prompt),\n\u001b[0m\u001b[1;32m    852\u001b[0m             \u001b[0mself\u001b[0m\u001b[0;34m.\u001b[0m\u001b[0m_parent_ident\u001b[0m\u001b[0;34m,\u001b[0m\u001b[0;34m\u001b[0m\u001b[0;34m\u001b[0m\u001b[0m\n\u001b[1;32m    853\u001b[0m             \u001b[0mself\u001b[0m\u001b[0;34m.\u001b[0m\u001b[0m_parent_header\u001b[0m\u001b[0;34m,\u001b[0m\u001b[0;34m\u001b[0m\u001b[0;34m\u001b[0m\u001b[0m\n",
            "\u001b[0;32m/usr/local/lib/python3.9/dist-packages/ipykernel/kernelbase.py\u001b[0m in \u001b[0;36m_input_request\u001b[0;34m(self, prompt, ident, parent, password)\u001b[0m\n\u001b[1;32m    893\u001b[0m             \u001b[0;32mexcept\u001b[0m \u001b[0mKeyboardInterrupt\u001b[0m\u001b[0;34m:\u001b[0m\u001b[0;34m\u001b[0m\u001b[0;34m\u001b[0m\u001b[0m\n\u001b[1;32m    894\u001b[0m                 \u001b[0;31m# re-raise KeyboardInterrupt, to truncate traceback\u001b[0m\u001b[0;34m\u001b[0m\u001b[0;34m\u001b[0m\u001b[0m\n\u001b[0;32m--> 895\u001b[0;31m                 \u001b[0;32mraise\u001b[0m \u001b[0mKeyboardInterrupt\u001b[0m\u001b[0;34m(\u001b[0m\u001b[0;34m\"Interrupted by user\"\u001b[0m\u001b[0;34m)\u001b[0m \u001b[0;32mfrom\u001b[0m \u001b[0;32mNone\u001b[0m\u001b[0;34m\u001b[0m\u001b[0;34m\u001b[0m\u001b[0m\n\u001b[0m\u001b[1;32m    896\u001b[0m             \u001b[0;32mexcept\u001b[0m \u001b[0mException\u001b[0m \u001b[0;32mas\u001b[0m \u001b[0me\u001b[0m\u001b[0;34m:\u001b[0m\u001b[0;34m\u001b[0m\u001b[0;34m\u001b[0m\u001b[0m\n\u001b[1;32m    897\u001b[0m                 \u001b[0mself\u001b[0m\u001b[0;34m.\u001b[0m\u001b[0mlog\u001b[0m\u001b[0;34m.\u001b[0m\u001b[0mwarning\u001b[0m\u001b[0;34m(\u001b[0m\u001b[0;34m\"Invalid Message:\"\u001b[0m\u001b[0;34m,\u001b[0m \u001b[0mexc_info\u001b[0m\u001b[0;34m=\u001b[0m\u001b[0;32mTrue\u001b[0m\u001b[0;34m)\u001b[0m\u001b[0;34m\u001b[0m\u001b[0;34m\u001b[0m\u001b[0m\n",
            "\u001b[0;31mKeyboardInterrupt\u001b[0m: Interrupted by user"
          ]
        }
      ]
    },
    {
      "cell_type": "code",
      "source": [
        "import random\n",
        "game_count = 1\n",
        "secret_number = random.sample(range(1,10),3) # range()\n",
        "print(secret_number)\n",
        "while game_count <= 10 :\n",
        "  strike = 0\n",
        "  ball = 0\n",
        "  player_number = input(\"3자리 숫자를 입력 :\")\n",
        "  player_number = list(player_number)\n",
        "  player_number[0] = int(player_number[0])\n",
        "  player_number[1] = int(player_number[1])\n",
        "  player_number[2] = int(player_number[2])\n",
        "\n",
        "  if (secret_number[0] == player_number[0]) :\n",
        "    strike = strike + 1\n",
        "  elif player_number[0] in secret_number :\n",
        "    ball = ball + 1\n",
        "  if (secret_number[1] == player_number[1]) :\n",
        "    strike = strike + 1\n",
        "  elif player_number[1] in secret_number :\n",
        "    ball = ball + 1\n",
        "  if (secret_number[2] == player_number[2]) :\n",
        "    strike = strike + 1\n",
        "  elif player_number[2] in secret_number :\n",
        "    ball = ball + 1\n",
        "     \n",
        "  print(strike, \"-스트라이크  //  \", ball, \"-볼\")\n",
        "  if strike == 3 :\n",
        "     print(\"맞췄습니다 ^0^\")\n",
        "     break\n"
      ],
      "metadata": {
        "colab": {
          "base_uri": "https://localhost:8080/"
        },
        "id": "4KFmbsILW40a",
        "outputId": "e4700ebb-1747-4eb2-e363-0feb13392c67"
      },
      "execution_count": 28,
      "outputs": [
        {
          "output_type": "stream",
          "name": "stdout",
          "text": [
            "[1, 3, 6]\n",
            "3자리 숫자를 입력 :123\n",
            "1 -스트라이크  //   1 -볼\n",
            "3자리 숫자를 입력 :456\n",
            "1 -스트라이크  //   0 -볼\n",
            "3자리 숫자를 입력 :789\n",
            "0 -스트라이크  //   0 -볼\n",
            "3자리 숫자를 입력 :631\n",
            "1 -스트라이크  //   2 -볼\n",
            "3자리 숫자를 입력 :136\n",
            "3 -스트라이크  //   0 -볼\n",
            "맞췄습니다 ^0^\n"
          ]
        }
      ]
    }
  ]
}