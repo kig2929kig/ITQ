{
  "nbformat": 4,
  "nbformat_minor": 0,
  "metadata": {
    "colab": {
      "provenance": [],
      "authorship_tag": "ABX9TyN/DjGysTjk4+k2TILJUCYc",
      "include_colab_link": true
    },
    "kernelspec": {
      "name": "python3",
      "display_name": "Python 3"
    },
    "language_info": {
      "name": "python"
    }
  },
  "cells": [
    {
      "cell_type": "markdown",
      "metadata": {
        "id": "view-in-github",
        "colab_type": "text"
      },
      "source": [
        "<a href=\"https://colab.research.google.com/github/kig2929kig/ITQ/blob/main/%EA%B3%BC%EC%A0%9C5.ipynb\" target=\"_parent\"><img src=\"https://colab.research.google.com/assets/colab-badge.svg\" alt=\"Open In Colab\"/></a>"
      ]
    },
    {
      "cell_type": "code",
      "execution_count": 2,
      "metadata": {
        "colab": {
          "base_uri": "https://localhost:8080/"
        },
        "id": "QRDpTf5lTs66",
        "outputId": "0c4aeaa4-7e26-478d-d19b-46020957fa07"
      },
      "outputs": [
        {
          "output_type": "stream",
          "name": "stdout",
          "text": [
            "정보처리기능사 실기 점수 입력 : 59\n",
            "불합격\n"
          ]
        }
      ],
      "source": [
        "score = int(input(\"정보처리기능사 실기 점수 입력 : \"))\n",
        "\n",
        "if score >= 60 : \n",
        "  print(\"합격\")\n",
        "  print(\"축하합니다.\")\n",
        "else :\n",
        "  print(\"불합격\")"
      ]
    },
    {
      "cell_type": "code",
      "source": [
        "# 한줄 주석문 연습\n",
        "\"\"\"\n",
        "프로그래밍 수업 : 3월 20일\n",
        "프로그래머 : 강인구\n",
        "프로그램 최종 작성일 : 3월 20일\n",
        "프로그램명 : 학점 계산 프로그램\n",
        "\"\"\"\n",
        "print(\"파이썬(3) : B(3.5) \\n\")\n",
        "print(\"모바일(2) : A0(4.0)\\n\")\n",
        "print(\"엑셀(1) : A(4.5)\")\n",
        "python = float(input(\"파이썬 성적을 입력(예,3.5)\"))\n",
        "mobile = float(input(\"모바일 성적을 입력 : \"))\n",
        "excel = float(input(\"엑셀 성적을 입력 : \"))\n",
        "\n",
        "result = (python * 3) + (mobile * 2) + excel\n",
        "avg = result / 6\n",
        "\n",
        "print(\"평균 학점은 \", round(avg, 3))"
      ],
      "metadata": {
        "colab": {
          "base_uri": "https://localhost:8080/"
        },
        "id": "776gtttRYDcz",
        "outputId": "1a79091a-2c9b-431f-9311-acef0bdce82d"
      },
      "execution_count": 6,
      "outputs": [
        {
          "output_type": "stream",
          "name": "stdout",
          "text": [
            "파이썬(3) : B(3.5) \n",
            "\n",
            "모바일(2) : A0(4.0)\n",
            "\n",
            "엑셀(1) : A(4.5)\n",
            "파이썬 성적을 입력(예,3.5)3.5\n",
            "모바일 성적을 입력 : 4.0\n",
            "엑셀 성적을 입력 : 4.5\n",
            "평균 학점은  3.833\n"
          ]
        }
      ]
    },
    {
      "cell_type": "code",
      "source": [
        "print(\"\\n줄바꿈\\n연습 \")"
      ],
      "metadata": {
        "colab": {
          "base_uri": "https://localhost:8080/"
        },
        "id": "l8-mDEhibIKz",
        "outputId": "120745f0-0abd-4583-8e04-2724ef3136f8"
      },
      "execution_count": 7,
      "outputs": [
        {
          "output_type": "stream",
          "name": "stdout",
          "text": [
            "\n",
            "줄바꿈\n",
            "연습 \n"
          ]
        }
      ]
    },
    {
      "cell_type": "code",
      "source": [
        "firstString = input(\"첫번째 문자열 : \")\n",
        "secondString = input(\"두번째 문자열 : \")\n",
        "\n",
        "length = len(firstString) - len(secondString)\n",
        "print(length)"
      ],
      "metadata": {
        "colab": {
          "base_uri": "https://localhost:8080/"
        },
        "id": "gIW6vlnNeZSb",
        "outputId": "1d055709-0230-43eb-d811-ceeb1e151691"
      },
      "execution_count": 8,
      "outputs": [
        {
          "output_type": "stream",
          "name": "stdout",
          "text": [
            "첫번째 문자열 : 안산공업고등학교\n",
            "두번째 문자열 : 컴퓨터과\n",
            "4\n"
          ]
        }
      ]
    },
    {
      "cell_type": "code",
      "source": [
        "str1 = \"\"\"\n",
        "안산공업고등학교 컴퓨터과, 안산공업고등학교는 \n",
        "기계과, 전기과, 전자과, 화공과, 디자인과, 컴퓨터과로 총 6개의\n",
        "과로 이뤄져있습니다.\n",
        "\"\"\"\n",
        "strLen = str1.count(\"안산\")\n",
        "print(strLen)\n"
      ],
      "metadata": {
        "colab": {
          "base_uri": "https://localhost:8080/"
        },
        "id": "mURgu4F3ieDL",
        "outputId": "1e070827-a4b2-4142-ff34-cab1f8396e2c"
      },
      "execution_count": 9,
      "outputs": [
        {
          "output_type": "stream",
          "name": "stdout",
          "text": [
            "2\n"
          ]
        }
      ]
    },
    {
      "cell_type": "code",
      "source": [
        "# Let it be 가사가 몇번 나오는지 확인하는 프로그램\n",
        "#upper(), lower()\n",
        "\n",
        "lyrics = \"\"\"\n",
        "When I find myself in times of trouble, Mother Mary comes to me\n",
        "Speaking words of wisdom, let it be\n",
        "And in my hour of darkness she is standing right in front of me\n",
        "Speaking words of wisdom, let it be\n",
        "Let it be, let it be, let it be, let it be\n",
        "Whisper words of wisdom, let it be\n",
        "And when the broken hearted people living in the world agree\n",
        "There will be an answer, let it be\n",
        "For though they may be parted, there is still a chance that they will see\n",
        "There will be an answer, let it be\n",
        "Let it be, let it be, let it be, let it be\n",
        "There will be an answer, let it be\n",
        "Let it be, let it be, let it be, let it be\n",
        "Whisper words of wisdom, let it be\n",
        "Let it be, let it be, let it be, let it be\n",
        "Whisper words of wisdom, let it be, be\n",
        "And when the night is cloudy there is still a light that shines on me\n",
        "Shinin' until tomorrow, let it be\n",
        "I wake up to the sound of music, Mother Mary comes to me\n",
        "Speaking words of wisdom, let it be\n",
        "And let it be, let it be, let it be, let it be\n",
        "Whisper words of wisdom, let it be\n",
        "And let it be, let it be, let it be, let it be\n",
        "Whisper words of wisdom, let it be\n",
        "\"\"\"\n",
        "\n",
        "lyrics=lyrics.upper()\n",
        "strLen = lyrics.count(\"LET IT BE\")\n",
        "print(\"Let it be는 총 \", strLen, \"번 나옵니다.\")\n"
      ],
      "metadata": {
        "colab": {
          "base_uri": "https://localhost:8080/"
        },
        "id": "jbeJyW8aj6Fk",
        "outputId": "37123287-e185-47d8-83ca-28bf2184b33c"
      },
      "execution_count": 11,
      "outputs": [
        {
          "output_type": "stream",
          "name": "stdout",
          "text": [
            "Let it be는 총  36 번 나옵니다.\n"
          ]
        }
      ]
    }
  ]
}