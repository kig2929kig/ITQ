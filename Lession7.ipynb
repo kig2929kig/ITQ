{
  "nbformat": 4,
  "nbformat_minor": 0,
  "metadata": {
    "colab": {
      "provenance": [],
      "authorship_tag": "ABX9TyOTIZSWVjbEUHfZtGXiWD0z",
      "include_colab_link": true
    },
    "kernelspec": {
      "name": "python3",
      "display_name": "Python 3"
    },
    "language_info": {
      "name": "python"
    }
  },
  "cells": [
    {
      "cell_type": "markdown",
      "metadata": {
        "id": "view-in-github",
        "colab_type": "text"
      },
      "source": [
        "<a href=\"https://colab.research.google.com/github/kig2929kig/ITQ/blob/main/Lession7.ipynb\" target=\"_parent\"><img src=\"https://colab.research.google.com/assets/colab-badge.svg\" alt=\"Open In Colab\"/></a>"
      ]
    },
    {
      "cell_type": "markdown",
      "source": [
        "7장\n",
        "형성평가"
      ],
      "metadata": {
        "id": "73BVGd8NKwBi"
      }
    },
    {
      "cell_type": "code",
      "execution_count": null,
      "metadata": {
        "colab": {
          "base_uri": "https://localhost:8080/"
        },
        "id": "HdQ3CH6wKtH9",
        "outputId": "0740cdf5-3a00-4628-cdde-55a5697a2929"
      },
      "outputs": [
        {
          "output_type": "stream",
          "name": "stdout",
          "text": [
            "Looking in indexes: https://pypi.org/simple, https://us-python.pkg.dev/colab-wheels/public/simple/\n",
            "Collecting gTTS\n",
            "  Downloading gTTS-2.2.4-py3-none-any.whl (26 kB)\n",
            "Requirement already satisfied: six in /usr/local/lib/python3.7/dist-packages (from gTTS) (1.15.0)\n",
            "Requirement already satisfied: click in /usr/local/lib/python3.7/dist-packages (from gTTS) (7.1.2)\n",
            "Requirement already satisfied: requests in /usr/local/lib/python3.7/dist-packages (from gTTS) (2.23.0)\n",
            "Requirement already satisfied: certifi>=2017.4.17 in /usr/local/lib/python3.7/dist-packages (from requests->gTTS) (2022.6.15)\n",
            "Requirement already satisfied: idna<3,>=2.5 in /usr/local/lib/python3.7/dist-packages (from requests->gTTS) (2.10)\n",
            "Requirement already satisfied: urllib3!=1.25.0,!=1.25.1,<1.26,>=1.21.1 in /usr/local/lib/python3.7/dist-packages (from requests->gTTS) (1.24.3)\n",
            "Requirement already satisfied: chardet<4,>=3.0.2 in /usr/local/lib/python3.7/dist-packages (from requests->gTTS) (3.0.4)\n",
            "Installing collected packages: gTTS\n",
            "Successfully installed gTTS-2.2.4\n",
            "나태함에 대한 징벌은 실패뿐만이 아니다. 다른 이들의 성공도 있지 않은가?!\n"
          ]
        }
      ],
      "source": [
        "!pip install gTTS\n",
        "import random\n",
        "\n",
        "wise_saying = [\"나 자신에 대한 자신감을 잃으면 온 세상이 나의 적이 된다.\",\n",
        "               \"항상 맑으면 사막이 된다.비가 내리고 바람이 불어야만 비옥한 땅이 된다.\",\n",
        "               \"인생에서 가장 슬픈 세 가지. 할 수 있었는데, 해야 했는데, 해야만 했는데.\", \n",
        "               \"나태함에 대한 징벌은 실패뿐만이 아니다. 다른 이들의 성공도 있지 않은가?!\",\n",
        "               \"오늘은 당신의 남은 인생 중,첫 번째 날이다.\"]\n",
        "tts = gTTS(random.choice(wise_saying), lang=\"ko\")\n"
      ]
    },
    {
      "cell_type": "markdown",
      "source": [
        "삼목 게임 만들기"
      ],
      "metadata": {
        "id": "4HjYTZx4kaZ0"
      }
    },
    {
      "cell_type": "code",
      "source": [
        "from google.colab import output\n",
        "import random\n",
        "usred = [1,2,3,4,5,6,7,8,9]\n",
        "boardList = [ [1,2,3],\n",
        "              [4,5,6],\n",
        "              [7,8,9]]\n",
        "def display_board() : \n",
        "  print(\" \", boardList[0][0],\"|\", boardList[0][1], \"|\", boardList[0][2])\n",
        "  print(\" ---+---+---\")\n",
        "  print(\" \", boardList[1][0],\"|\", boardList[1][1], \"|\", boardList[1][2])\n",
        "  print(\" ---+---+---\")\n",
        "  print(\" \", boardList[2][0],\"|\", boardList[2][1], \"|\", boardList[2][2])\n",
        "\n",
        "def user_select() :\n",
        "  user = int(input(\"위치를 선택 : \"))\n",
        "  usred.remove(user)\n",
        "  for x in range(3) :\n",
        "    for y in range(3) :\n",
        "      if user == boardList[x][y]  : boardList[x][y] = \"o\"\n",
        "\n",
        "def com_select() :\n",
        "  com = random.choice(usred)\n",
        "  usred.remove(com)\n",
        "  for x in range(3) :\n",
        "    for y in range(3) :\n",
        "      if com == boardList[x][y]  : boardList[x][y] = \"x\"\n",
        "\n",
        "def test(player) :\n",
        "  if boardList[0][0] == boardList[0][1] == boardList[0][2] == player or \\\n",
        "   boardList[1][0] == boardList[1][1] == boardList[1][2] == player or \\\n",
        "   boardList[2][0] == boardList[2][1] == boardList[2][2] == player or \\\n",
        "   boardList[0][0] == boardList[1][1] == boardList[2][2] == player or \\\n",
        "   boardList[0][0] == boardList[1][0] == boardList[2][0] == player or \\\n",
        "   boardList[0][1] == boardList[1][1] == boardList[2][1] == player or \\\n",
        "   boardList[0][2] == boardList[1][2] == boardList[2][2] == player or \\\n",
        "   boardList[0][2] == boardList[1][1] == boardList[2][1] == player :\n",
        "   return player\n",
        "\n",
        "while True :\n",
        "  display_board()\n",
        "  user_select()\n",
        "  if test(\"o\") == \"o\" :\n",
        "    display_board() \n",
        "    print(\"유저 승\")\n",
        "    break\n",
        "  elif len(usred) == 0 :\n",
        "    print(\"비겼다.\")\n",
        "    break \n",
        "  output.clear()\n",
        "  com_select()\n",
        "  output.clear()\n",
        "  if test(\"x\") == \"x\" :\n",
        "    display_board()  \n",
        "    print(\"컴퓨터 승\")\n",
        "    break\n",
        "  elif len(usred) == 0 :\n",
        "    print(\"비겼다.\")\n",
        "    break \n"
      ],
      "metadata": {
        "colab": {
          "base_uri": "https://localhost:8080/",
          "height": 396
        },
        "id": "DKS1h7qakcck",
        "outputId": "6d6129b1-ecdc-4359-a24a-6b98a225fbe0"
      },
      "execution_count": 50,
      "outputs": [
        {
          "output_type": "error",
          "ename": "IndexError",
          "evalue": "ignored",
          "traceback": [
            "\u001b[0;31m---------------------------------------------------------------------------\u001b[0m",
            "\u001b[0;31mIndexError\u001b[0m                                Traceback (most recent call last)",
            "\u001b[0;32m<ipython-input-50-78cb0f1792ef>\u001b[0m in \u001b[0;36m<module>\u001b[0;34m\u001b[0m\n\u001b[1;32m     47\u001b[0m     \u001b[0mprint\u001b[0m\u001b[0;34m(\u001b[0m\u001b[0;34m\"비겼다.\"\u001b[0m\u001b[0;34m)\u001b[0m\u001b[0;34m\u001b[0m\u001b[0;34m\u001b[0m\u001b[0m\n\u001b[1;32m     48\u001b[0m   \u001b[0moutput\u001b[0m\u001b[0;34m.\u001b[0m\u001b[0mclear\u001b[0m\u001b[0;34m(\u001b[0m\u001b[0;34m)\u001b[0m\u001b[0;34m\u001b[0m\u001b[0;34m\u001b[0m\u001b[0m\n\u001b[0;32m---> 49\u001b[0;31m   \u001b[0mcom_select\u001b[0m\u001b[0;34m(\u001b[0m\u001b[0;34m)\u001b[0m\u001b[0;34m\u001b[0m\u001b[0;34m\u001b[0m\u001b[0m\n\u001b[0m\u001b[1;32m     50\u001b[0m   \u001b[0moutput\u001b[0m\u001b[0;34m.\u001b[0m\u001b[0mclear\u001b[0m\u001b[0;34m(\u001b[0m\u001b[0;34m)\u001b[0m\u001b[0;34m\u001b[0m\u001b[0;34m\u001b[0m\u001b[0m\n\u001b[1;32m     51\u001b[0m   \u001b[0;32mif\u001b[0m \u001b[0mtest\u001b[0m\u001b[0;34m(\u001b[0m\u001b[0;34m\"x\"\u001b[0m\u001b[0;34m)\u001b[0m \u001b[0;34m==\u001b[0m \u001b[0;34m\"x\"\u001b[0m \u001b[0;34m:\u001b[0m\u001b[0;34m\u001b[0m\u001b[0;34m\u001b[0m\u001b[0m\n",
            "\u001b[0;32m<ipython-input-50-78cb0f1792ef>\u001b[0m in \u001b[0;36mcom_select\u001b[0;34m()\u001b[0m\n\u001b[1;32m     20\u001b[0m \u001b[0;34m\u001b[0m\u001b[0m\n\u001b[1;32m     21\u001b[0m \u001b[0;32mdef\u001b[0m \u001b[0mcom_select\u001b[0m\u001b[0;34m(\u001b[0m\u001b[0;34m)\u001b[0m \u001b[0;34m:\u001b[0m\u001b[0;34m\u001b[0m\u001b[0;34m\u001b[0m\u001b[0m\n\u001b[0;32m---> 22\u001b[0;31m   \u001b[0mcom\u001b[0m \u001b[0;34m=\u001b[0m \u001b[0mrandom\u001b[0m\u001b[0;34m.\u001b[0m\u001b[0mchoice\u001b[0m\u001b[0;34m(\u001b[0m\u001b[0musred\u001b[0m\u001b[0;34m)\u001b[0m\u001b[0;34m\u001b[0m\u001b[0;34m\u001b[0m\u001b[0m\n\u001b[0m\u001b[1;32m     23\u001b[0m   \u001b[0musred\u001b[0m\u001b[0;34m.\u001b[0m\u001b[0mremove\u001b[0m\u001b[0;34m(\u001b[0m\u001b[0mcom\u001b[0m\u001b[0;34m)\u001b[0m\u001b[0;34m\u001b[0m\u001b[0;34m\u001b[0m\u001b[0m\n\u001b[1;32m     24\u001b[0m   \u001b[0;32mfor\u001b[0m \u001b[0mx\u001b[0m \u001b[0;32min\u001b[0m \u001b[0mrange\u001b[0m\u001b[0;34m(\u001b[0m\u001b[0;36m3\u001b[0m\u001b[0;34m)\u001b[0m \u001b[0;34m:\u001b[0m\u001b[0;34m\u001b[0m\u001b[0;34m\u001b[0m\u001b[0m\n",
            "\u001b[0;32m/usr/lib/python3.7/random.py\u001b[0m in \u001b[0;36mchoice\u001b[0;34m(self, seq)\u001b[0m\n\u001b[1;32m    259\u001b[0m             \u001b[0mi\u001b[0m \u001b[0;34m=\u001b[0m \u001b[0mself\u001b[0m\u001b[0;34m.\u001b[0m\u001b[0m_randbelow\u001b[0m\u001b[0;34m(\u001b[0m\u001b[0mlen\u001b[0m\u001b[0;34m(\u001b[0m\u001b[0mseq\u001b[0m\u001b[0;34m)\u001b[0m\u001b[0;34m)\u001b[0m\u001b[0;34m\u001b[0m\u001b[0;34m\u001b[0m\u001b[0m\n\u001b[1;32m    260\u001b[0m         \u001b[0;32mexcept\u001b[0m \u001b[0mValueError\u001b[0m\u001b[0;34m:\u001b[0m\u001b[0;34m\u001b[0m\u001b[0;34m\u001b[0m\u001b[0m\n\u001b[0;32m--> 261\u001b[0;31m             \u001b[0;32mraise\u001b[0m \u001b[0mIndexError\u001b[0m\u001b[0;34m(\u001b[0m\u001b[0;34m'Cannot choose from an empty sequence'\u001b[0m\u001b[0;34m)\u001b[0m \u001b[0;32mfrom\u001b[0m \u001b[0;32mNone\u001b[0m\u001b[0;34m\u001b[0m\u001b[0;34m\u001b[0m\u001b[0m\n\u001b[0m\u001b[1;32m    262\u001b[0m         \u001b[0;32mreturn\u001b[0m \u001b[0mseq\u001b[0m\u001b[0;34m[\u001b[0m\u001b[0mi\u001b[0m\u001b[0;34m]\u001b[0m\u001b[0;34m\u001b[0m\u001b[0;34m\u001b[0m\u001b[0m\n\u001b[1;32m    263\u001b[0m \u001b[0;34m\u001b[0m\u001b[0m\n",
            "\u001b[0;31mIndexError\u001b[0m: Cannot choose from an empty sequence"
          ]
        }
      ]
    }
  ]
}